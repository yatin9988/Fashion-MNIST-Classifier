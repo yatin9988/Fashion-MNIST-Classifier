{
 "cells": [
  {
   "cell_type": "code",
   "execution_count": 1,
   "metadata": {},
   "outputs": [],
   "source": [
    "import numpy as np\n",
    "import matplotlib.pyplot as plt\n",
    "import pandas as pd"
   ]
  },
  {
   "cell_type": "code",
   "execution_count": 2,
   "metadata": {},
   "outputs": [],
   "source": [
    "from tensorflow.keras.utils import to_categorical\n",
    "from tensorflow.keras.models import Sequential\n",
    "from tensorflow.keras.layers import Dense,Convolution2D,MaxPooling2D,Dropout,Flatten\n",
    "from tensorflow.keras.callbacks import ModelCheckpoint,EarlyStopping"
   ]
  },
  {
   "cell_type": "code",
   "execution_count": 3,
   "metadata": {},
   "outputs": [],
   "source": [
    "df = pd.read_csv('fashion-mnist.csv')"
   ]
  },
  {
   "cell_type": "code",
   "execution_count": 4,
   "metadata": {},
   "outputs": [
    {
     "name": "stdout",
     "output_type": "stream",
     "text": [
      "(10000, 785)\n"
     ]
    }
   ],
   "source": [
    "print(df.shape)"
   ]
  },
  {
   "cell_type": "code",
   "execution_count": 5,
   "metadata": {},
   "outputs": [],
   "source": [
    "df = df.values"
   ]
  },
  {
   "cell_type": "code",
   "execution_count": 6,
   "metadata": {},
   "outputs": [],
   "source": [
    "Y_train = df[:,0]\n",
    "X_train = df[:,1:]"
   ]
  },
  {
   "cell_type": "code",
   "execution_count": 7,
   "metadata": {},
   "outputs": [
    {
     "name": "stdout",
     "output_type": "stream",
     "text": [
      "(10000, 784)\n",
      "(10000,)\n"
     ]
    }
   ],
   "source": [
    "print(X_train.shape)\n",
    "print(Y_train.shape)"
   ]
  },
  {
   "cell_type": "code",
   "execution_count": 8,
   "metadata": {},
   "outputs": [
    {
     "name": "stdout",
     "output_type": "stream",
     "text": [
      "(10000, 10)\n"
     ]
    }
   ],
   "source": [
    "Y_train = to_categorical(Y_train)\n",
    "print(Y_train.shape)"
   ]
  },
  {
   "cell_type": "code",
   "execution_count": 9,
   "metadata": {},
   "outputs": [],
   "source": [
    "X_train = X_train.reshape((10000,28,28,1))"
   ]
  },
  {
   "cell_type": "code",
   "execution_count": 10,
   "metadata": {},
   "outputs": [
    {
     "data": {
      "image/png": "[encoded data removed]",
      "text/plain": [
       "<Figure size 432x288 with 1 Axes>"
      ]
     },
     "metadata": {
      "needs_background": "light"
     },
     "output_type": "display_data"
    },
    {
     "data": {
      "image/png": "[encoded data removed]",
      "text/plain": [
       "<Figure size 432x288 with 1 Axes>"
      ]
     },
     "metadata": {
      "needs_background": "light"
     },
     "output_type": "display_data"
    },
    {
     "data": {
      "image/png": "[encoded data removed]",
      "text/plain": [
       "<Figure size 432x288 with 1 Axes>"
      ]
     },
     "metadata": {
      "needs_background": "light"
     },
     "output_type": "display_data"
    },
    {
     "data": {
      "image/png": "[encoded data removed]",
      "text/plain": [
       "<Figure size 432x288 with 1 Axes>"
      ]
     },
     "metadata": {
      "needs_background": "light"
     },
     "output_type": "display_data"
    },
    {
     "data": {
      "image/png": "[encoded data removed]",
      "text/plain": [
       "<Figure size 432x288 with 1 Axes>"
      ]
     },
     "metadata": {
      "needs_background": "light"
     },
     "output_type": "display_data"
    }
   ],
   "source": [
    "for i in range(5):\n",
    "    idx = np.random.randint(0,10000)\n",
    "    plt.imshow(X_train[idx].reshape((28,28)),cmap=\"gray\")\n",
    "    plt.axis(\"off\")\n",
    "    plt.show()"
   ]
  },
  {
   "cell_type": "code",
   "execution_count": 11,
   "metadata": {},
   "outputs": [],
   "source": [
    "model = Sequential()"
   ]
  },
  {
   "cell_type": "code",
   "execution_count": 12,
   "metadata": {},
   "outputs": [],
   "source": [
    "model.add(Convolution2D(32,(3,3),activation='relu',input_shape=(28,28,1)))\n",
    "model.add(Convolution2D(64,(3,3),activation='relu'))\n",
    "model.add(MaxPooling2D((2,2)))\n",
    "model.add(Convolution2D(64,(5,5),activation='relu'))\n",
    "model.add(Dropout(0.25))\n",
    "model.add(Convolution2D(32,(5,5),activation='relu'))\n",
    "model.add(MaxPooling2D((2,2)))\n",
    "model.add(Flatten())\n",
    "model.add(Dense(10,activation='softmax'))          "
   ]
  },
  {
   "cell_type": "code",
   "execution_count": 13,
   "metadata": {},
   "outputs": [
    {
     "name": "stdout",
     "output_type": "stream",
     "text": [
      "Model: \"sequential\"\n",
      "_________________________________________________________________\n",
      "Layer (type)                 Output Shape              Param #   \n",
      "=================================================================\n",
      "conv2d (Conv2D)              (None, 26, 26, 32)        320       \n",
      "_________________________________________________________________\n",
      "conv2d_1 (Conv2D)            (None, 24, 24, 64)        18496     \n",
      "_________________________________________________________________\n",
      "max_pooling2d (MaxPooling2D) (None, 12, 12, 64)        0         \n",
      "_________________________________________________________________\n",
      "conv2d_2 (Conv2D)            (None, 8, 8, 64)          102464    \n",
      "_________________________________________________________________\n",
      "dropout (Dropout)            (None, 8, 8, 64)          0         \n",
      "_________________________________________________________________\n",
      "conv2d_3 (Conv2D)            (None, 4, 4, 32)          51232     \n",
      "_________________________________________________________________\n",
      "max_pooling2d_1 (MaxPooling2 (None, 2, 2, 32)          0         \n",
      "_________________________________________________________________\n",
      "flatten (Flatten)            (None, 128)               0         \n",
      "_________________________________________________________________\n",
      "dense (Dense)                (None, 10)                1290      \n",
      "=================================================================\n",
      "Total params: 173,802\n",
      "Trainable params: 173,802\n",
      "Non-trainable params: 0\n",
      "_________________________________________________________________\n"
     ]
    }
   ],
   "source": [
    "model.summary()"
   ]
  },
  {
   "cell_type": "code",
   "execution_count": 14,
   "metadata": {},
   "outputs": [],
   "source": [
    "model.compile(optimizer=\"adam\",loss=\"categorical_crossentropy\",metrics=['accuracy'])"
   ]
  },
  {
   "cell_type": "code",
   "execution_count": 15,
   "metadata": {},
   "outputs": [],
   "source": [
    "modelCheckpoint = ModelCheckpoint('model.h5',monitor='val_accuracy',verbose=1,save_best_only=True)\n",
    "earlyStopping = EarlyStopping(monitor='val_accuracy',min_delta=0.005,verbose=1,patience=10,restore_best_weights=True)\n",
    "callbacks = [modelCheckpoint,earlyStopping]"
   ]
  },
  {
   "cell_type": "code",
   "execution_count": null,
   "metadata": {},
   "outputs": [
    {
     "name": "stdout",
     "output_type": "stream",
     "text": [
      "Train on 8000 samples, validate on 2000 samples\n",
      "Epoch 1/15\n",
      "7936/8000 [============================>.] - ETA: 0s - loss: 2.8206 - accuracy: 0.5421\n",
      "Epoch 00001: val_accuracy improved from -inf to 0.73050, saving model to model.h5\n",
      "8000/8000 [==============================] - 9s 1ms/sample - loss: 2.8035 - accuracy: 0.5437 - val_loss: 0.7553 - val_accuracy: 0.7305\n",
      "Epoch 2/15\n",
      "7936/8000 [============================>.] - ETA: 0s - loss: 0.7385 - accuracy: 0.7350\n",
      "Epoch 00002: val_accuracy improved from 0.73050 to 0.75300, saving model to model.h5\n",
      "8000/8000 [==============================] - 9s 1ms/sample - loss: 0.7370 - accuracy: 0.7355 - val_loss: 0.6325 - val_accuracy: 0.7530\n",
      "Epoch 3/15\n",
      "7936/8000 [============================>.] - ETA: 0s - loss: 0.6088 - accuracy: 0.7733\n",
      "Epoch 00003: val_accuracy improved from 0.75300 to 0.80650, saving model to model.h5\n",
      "8000/8000 [==============================] - 10s 1ms/sample - loss: 0.6082 - accuracy: 0.7736 - val_loss: 0.5382 - val_accuracy: 0.8065\n",
      "Epoch 4/15\n",
      "7936/8000 [============================>.] - ETA: 0s - loss: 0.5509 - accuracy: 0.7983\n",
      "Epoch 00004: val_accuracy did not improve from 0.80650\n",
      "8000/8000 [==============================] - 10s 1ms/sample - loss: 0.5500 - accuracy: 0.7984 - val_loss: 0.5122 - val_accuracy: 0.8025\n",
      "Epoch 5/15\n",
      "7936/8000 [============================>.] - ETA: 0s - loss: 0.5040 - accuracy: 0.8131\n",
      "Epoch 00005: val_accuracy improved from 0.80650 to 0.82550, saving model to model.h5\n",
      "8000/8000 [==============================] - 10s 1ms/sample - loss: 0.5047 - accuracy: 0.8130 - val_loss: 0.4621 - val_accuracy: 0.8255\n",
      "Epoch 6/15\n",
      "7936/8000 [============================>.] - ETA: 0s - loss: 0.4687 - accuracy: 0.8285\n",
      "Epoch 00006: val_accuracy improved from 0.82550 to 0.83300, saving model to model.h5\n",
      "8000/8000 [==============================] - 10s 1ms/sample - loss: 0.4682 - accuracy: 0.8289 - val_loss: 0.4590 - val_accuracy: 0.8330\n",
      "Epoch 7/15\n",
      "7936/8000 [============================>.] - ETA: 0s - loss: 0.4418 - accuracy: 0.8347\n",
      "Epoch 00007: val_accuracy improved from 0.83300 to 0.83550, saving model to model.h5\n",
      "8000/8000 [==============================] - 11s 1ms/sample - loss: 0.4421 - accuracy: 0.8345 - val_loss: 0.4618 - val_accuracy: 0.8355\n",
      "Epoch 8/15\n",
      "7936/8000 [============================>.] - ETA: 0s - loss: 0.4122 - accuracy: 0.8451\n",
      "Epoch 00008: val_accuracy improved from 0.83550 to 0.83650, saving model to model.h5\n",
      "8000/8000 [==============================] - 10s 1ms/sample - loss: 0.4123 - accuracy: 0.8451 - val_loss: 0.4318 - val_accuracy: 0.8365\n",
      "Epoch 9/15\n",
      "7936/8000 [============================>.] - ETA: 0s - loss: 0.3790 - accuracy: 0.8642\n",
      "Epoch 00009: val_accuracy improved from 0.83650 to 0.86450, saving model to model.h5\n",
      "8000/8000 [==============================] - 10s 1ms/sample - loss: 0.3785 - accuracy: 0.8643 - val_loss: 0.3813 - val_accuracy: 0.8645\n",
      "Epoch 10/15\n",
      "7936/8000 [============================>.] - ETA: 0s - loss: 0.3473 - accuracy: 0.8718\n",
      "Epoch 00010: val_accuracy improved from 0.86450 to 0.87100, saving model to model.h5\n",
      "8000/8000 [==============================] - 10s 1ms/sample - loss: 0.3485 - accuracy: 0.8712 - val_loss: 0.3696 - val_accuracy: 0.8710\n",
      "Epoch 11/15\n",
      "7936/8000 [============================>.] - ETA: 0s - loss: 0.3413 - accuracy: 0.8760\n",
      "Epoch 00011: val_accuracy did not improve from 0.87100\n",
      "8000/8000 [==============================] - 10s 1ms/sample - loss: 0.3420 - accuracy: 0.8756 - val_loss: 0.3911 - val_accuracy: 0.8605\n",
      "Epoch 12/15\n",
      "7936/8000 [============================>.] - ETA: 0s - loss: 0.3039 - accuracy: 0.8862\n",
      "Epoch 00012: val_accuracy did not improve from 0.87100\n",
      "8000/8000 [==============================] - 10s 1ms/sample - loss: 0.3041 - accuracy: 0.8856 - val_loss: 0.3637 - val_accuracy: 0.8660\n",
      "Epoch 13/15\n",
      "4480/8000 [===============>..............] - ETA: 4s - loss: 0.3091 - accuracy: 0.8842"
     ]
    }
   ],
   "source": [
    "hist = model.fit(X_train,Y_train,batch_size=128,epochs=15,validation_split=0.2,callbacks=callbacks)"
   ]
  },
  {
   "cell_type": "code",
   "execution_count": null,
   "metadata": {},
   "outputs": [],
   "source": [
    "plt.title(\"loss\")\n",
    "plt.plot(hist.history['loss'],'g',label=\"loss\")\n",
    "plt.plot(hist.history['val_loss'],'r',label=\"val_loss\")\n",
    "plt.style.use('dark_background')\n",
    "plt.legend()\n",
    "plt.axis(\"off\")\n",
    "plt.show()"
   ]
  },
  {
   "cell_type": "code",
   "execution_count": null,
   "metadata": {},
   "outputs": [],
   "source": [
    "plt.title(\"accuracy\")\n",
    "plt.title(\"accuracy vs loss\")\n",
    "plt.plot(hist.history['accuracy'],'g',label=\"accuracy\")\n",
    "plt.plot(hist.history['val_accuracy'],'r',label=\"val_accuracy\")\n",
    "plt.style.use('dark_background')\n",
    "plt.legend()\n",
    "plt.axis(\"off\")\n",
    "plt.show()"
   ]
  },
  {
   "cell_type": "code",
   "execution_count": null,
   "metadata": {},
   "outputs": [],
   "source": [
    "loss,accuracy = model.evaluate(X_train,Y_train)"
   ]
  },
  {
   "cell_type": "code",
   "execution_count": null,
   "metadata": {},
   "outputs": [],
   "source": [
    "print(accuracy)"
   ]
  }
 ],
 "metadata": {
  "kernelspec": {
   "display_name": "Python 3",
   "language": "python",
   "name": "python3"
  },
  "language_info": {
   "codemirror_mode": {
    "name": "ipython",
    "version": 3
   },
   "file_extension": ".py",
   "mimetype": "text/x-python",
   "name": "python",
   "nbconvert_exporter": "python",
   "pygments_lexer": "ipython3",
   "version": "3.7.1"
  }
 },
 "nbformat": 4,
 "nbformat_minor": 2
}
